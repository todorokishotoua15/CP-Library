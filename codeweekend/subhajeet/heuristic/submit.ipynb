{
 "cells": [
  {
   "cell_type": "code",
   "execution_count": 2,
   "metadata": {},
   "outputs": [
    {
     "name": "stdout",
     "output_type": "stream",
     "text": [
      "API TOKEN: prmmuumogvpgjupbkxhiucaskjzovxly\n",
      "API URL: https://codeweekend.dev:3721/api/\n"
     ]
    }
   ],
   "source": [
    "api_token = 'prmmuumogvpgjupbkxhiucaskjzovxly'\n",
    "api_url = 'https://codeweekend.dev:3721/api/'\n",
    "files_url = 'https://codeweekend.dev:81/'\n",
    "\n",
    "print('API TOKEN:', api_token)\n",
    "print('API URL:', api_url)"
   ]
  },
  {
   "cell_type": "code",
   "execution_count": 10,
   "metadata": {},
   "outputs": [],
   "source": [
    "import requests\n",
    "import json\n",
    "import time\n",
    "import os\n",
    "from tqdm import tqdm\n",
    "\n",
    "headers = {\n",
    "    'authorization': f'Bearer {api_token}'\n",
    "}\n",
    "\n",
    "def show(inner_json):\n",
    "    print(json.dumps(inner_json, indent=2))\n",
    "\n",
    "def get_scoreboard():\n",
    "    return requests.get(api_url + 'scoreboard', headers=headers).json()\n",
    "\n",
    "def get_team_dashboard():\n",
    "    return requests.get(api_url + 'team_dashboard', headers=headers).json()\n",
    "\n",
    "def get_test(task_id):\n",
    "    task_id_padded = '{:03d}'.format(task_id)\n",
    "    url = f'{files_url}{task_id_padded}.json'\n",
    "    return requests.get(url, headers=headers).content\n",
    "\n",
    "# Returns at most 50 submissions\n",
    "def get_team_submissions(offset=0, task_id=None):\n",
    "    url = f'{api_url}team_submissions?offset={offset}'\n",
    "    if task_id is not None:\n",
    "      url += f'&task_id={task_id}'\n",
    "    return requests.get(url, headers=headers).json()\n",
    "\n",
    "def get_submission_info(submission_id, wait=False):\n",
    "    url = f'{api_url}submission_info/{submission_id}'\n",
    "    res = requests.get(url, headers=headers).json()\n",
    "    if 'Pending' in res and wait:\n",
    "        print('Submission is in Pending state, waiting...')\n",
    "        time.sleep(1)\n",
    "        return get_submission_info(submission_id)\n",
    "    return res\n",
    "\n",
    "# Returns submission_id\n",
    "def submit(task_id, solution):\n",
    "    res = requests.post(url = f'{api_url}submit/{task_id}',\n",
    "                        headers=headers, files={'file': solution})\n",
    "    if res.status_code == 200:\n",
    "        return res.text\n",
    "    print(f'Error: {res.text}')\n",
    "    return None"
   ]
  },
  {
   "cell_type": "code",
   "execution_count": 7,
   "metadata": {},
   "outputs": [],
   "source": [
    "files = [f for f in os.listdir(\"./ip\")]\n",
    "files.sort()"
   ]
  },
  {
   "cell_type": "code",
   "execution_count": 11,
   "metadata": {},
   "outputs": [
    {
     "name": "stderr",
     "output_type": "stream",
     "text": [
      "100%|██████████| 25/25 [00:28<00:00,  1.13s/it]\n"
     ]
    }
   ],
   "source": [
    "for i in tqdm(range(25)):\n",
    "    filename = files[i]\n",
    "    testId = i + 1\n",
    "    with open(f\"./op/{filename}\", \"r\") as f:\n",
    "        submit(testId, f)"
   ]
  },
  {
   "cell_type": "code",
   "execution_count": null,
   "metadata": {},
   "outputs": [],
   "source": []
  }
 ],
 "metadata": {
  "kernelspec": {
   "display_name": "vision",
   "language": "python",
   "name": "python3"
  },
  "language_info": {
   "codemirror_mode": {
    "name": "ipython",
    "version": 3
   },
   "file_extension": ".py",
   "mimetype": "text/x-python",
   "name": "python",
   "nbconvert_exporter": "python",
   "pygments_lexer": "ipython3",
   "version": "3.9.0"
  }
 },
 "nbformat": 4,
 "nbformat_minor": 2
}
