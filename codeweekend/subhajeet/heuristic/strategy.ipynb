{
 "cells": [
  {
   "cell_type": "code",
   "execution_count": 1,
   "metadata": {},
   "outputs": [],
   "source": [
    "import math\n",
    "import json\n",
    "import random\n",
    "import os\n",
    "from tqdm import tqdm"
   ]
  },
  {
   "cell_type": "markdown",
   "metadata": {},
   "source": [
    "#### GameMap\n",
    "The gamemap needs to be modified using better data structures to be able to handle longer ops"
   ]
  },
  {
   "cell_type": "code",
   "execution_count": 2,
   "metadata": {},
   "outputs": [],
   "source": [
    "class Monster:\n",
    "    def __init__(self, id, x, y, hp, gold, exp):\n",
    "        self.id = id\n",
    "        self.x, self.y, self.hp, self.gold, self.exp = x, y, hp, gold, exp\n",
    "        \n",
    "class Gamemap:\n",
    "    def __init__(self, width, height, monsters):\n",
    "        self.width, self.height, self.monsters = width, height, monsters\n",
    "        \n",
    "    def getMonsters(self, x, y, range):\n",
    "        monsters = []\n",
    "        for monster in self.monsters:\n",
    "            if (monster.x - x)**2 + (monster.y - y)**2 < range**2:\n",
    "                monsters.append(monster)\n",
    "        return monsters\n",
    "    \n",
    "    def attackMonster(self, id, power):\n",
    "        targetId, eraseId = -1, -1\n",
    "        gold, exp = 0, 0\n",
    "        for i in range(len(self.monsters)):\n",
    "            if self.monsters[i].id == id:\n",
    "                self.monsters[i].hp -= power\n",
    "                if self.monsters[i].hp <= 0:\n",
    "                    gold, exp = self.monsters[i].gold, self.monsters[i].exp\n",
    "                    eraseId = i\n",
    "                    break\n",
    "        if eraseId != -1:\n",
    "            del self.monsters[eraseId]\n",
    "        return id, gold, exp\n",
    "        "
   ]
  },
  {
   "cell_type": "markdown",
   "metadata": {},
   "source": [
    "### Hero base class\n",
    "Extend the same and implement `moveStrategy()`, `attackStrategy()` and `chooseMove()`"
   ]
  },
  {
   "cell_type": "code",
   "execution_count": 3,
   "metadata": {},
   "outputs": [],
   "source": [
    "class Hero:\n",
    "    def __init__(self, init_x, init_y, init_speed, init_power, init_range, speed_alpha, power_alpha, range_alpha, gamemap):\n",
    "        self.base_speed, self.base_power, self.base_range = init_speed, init_power, init_range\n",
    "        self.speed_alpha, self.power_alpha, self.range_alpha = speed_alpha, power_alpha, range_alpha\n",
    "        self.x, self.y, self.speed, self.power, self.range = init_x, init_y, init_speed, init_power, init_range\n",
    "        self.gold, self.exp, self.level = 0, 0, 0\n",
    "        self.gamemap = gamemap\n",
    "        self.logs = []\n",
    "        \n",
    "    def moveStrategy(self):\n",
    "        pass\n",
    "    \n",
    "    def attackStrategy(self):\n",
    "        pass\n",
    "    \n",
    "    def chooseMove(self): # True if movement, False for attack\n",
    "        pass\n",
    "    \n",
    "    def recomputeStats(self):\n",
    "        if self.exp >= 1000 + self.level * (self.level + 1):\n",
    "            self.exp -= 1000 + self.level * (self.level + 1)\n",
    "            self.level += 1\n",
    "            self.speed = math.floor(self.base_speed * (1 + self.level * self.speed_alpha / 100))\n",
    "            self.power = math.floor(self.base_power * (1 + self.level * self.power_alpha / 100))\n",
    "            self.range = math.floor(self.base_range * (1 + self.level * self.range_alpha / 100))\n",
    "        \n",
    "    def move(self):\n",
    "        nx, ny = self.moveStrategy()\n",
    "        self.logs.append({\n",
    "            \"type\" : \"move\", \n",
    "            \"target_x\" : nx,\n",
    "            \"target_y\" : ny\n",
    "        })\n",
    "        self.x, self.y = nx, ny\n",
    "        \n",
    "    def attack(self):\n",
    "        target, gold, exp = self.attackStrategy()\n",
    "        if target == -1:\n",
    "            return False\n",
    "        self.logs.append({\n",
    "            \"type\" : \"attack\",\n",
    "            \"target_id\" : target\n",
    "        })\n",
    "        self.gold += gold\n",
    "        self.exp += exp\n",
    "        self.recomputeStats()\n",
    "        return True\n",
    "        \n",
    "    def simulate(self, num_turns, output_file):\n",
    "        self.logs = []\n",
    "        i = 0\n",
    "        while i < num_turns:\n",
    "            nextMove = self.chooseMove()\n",
    "            if nextMove : # True if movement, False for attack\n",
    "                self.move()\n",
    "                i += 1\n",
    "            else :\n",
    "                if self.attack():\n",
    "                    i += 1\n",
    "                \n",
    "                \n",
    "        with open(output_file, 'w') as f:\n",
    "            json.dump({\n",
    "                \"moves\" : self.logs\n",
    "            }, f, indent = 4)"
   ]
  },
  {
   "cell_type": "code",
   "execution_count": 125,
   "metadata": {},
   "outputs": [],
   "source": [
    "class RandomHero(Hero):\n",
    "    def moveStrategy(self):\n",
    "        d = random.choice(range(1, self.speed + 1))\n",
    "        dx, dy = random.choice([(0, d), (d, 0), (0, -d), (-d, 0)])\n",
    "        nx, ny = self.x + dx, self.y + dy\n",
    "        while(nx > self.gamemap.width or nx < 0 or ny > self.gamemap.height or ny < 0):\n",
    "            d = random.choice(range(1, self.speed + 1))\n",
    "            dx, dy = random.choice([(0, d), (d, 0), (0, -d), (-d, 0)])\n",
    "            nx, ny = self.x + dx, self.y + dy\n",
    "        return nx, ny\n",
    "    \n",
    "    def attackStrategy(self):\n",
    "        monsters = self.gamemap.getMonsters(self.x, self.y, self.range)\n",
    "        if len(monsters) == 0:\n",
    "            return (-1, 0, 0)\n",
    "        monster = random.choice(monsters)\n",
    "        return self.gamemap.attackMonster(monster.id, self.power)\n",
    "    \n",
    "    def chooseMove(self):\n",
    "        P_ATTACK = 0.8\n",
    "        return random.choices([True, False], weights = [1 - P_ATTACK, P_ATTACK], k = 1)[0]"
   ]
  },
  {
   "cell_type": "code",
   "execution_count": 126,
   "metadata": {},
   "outputs": [],
   "source": [
    "def processFile(filename):\n",
    "    data = {}\n",
    "    with open(f\"./ip/{filename}\", \"r\") as f:\n",
    "        data = json.load(f)\n",
    "    monsters = []\n",
    "    for i, md in enumerate(data[\"monsters\"]):\n",
    "        monster = Monster(i, md['x'], md['y'], md['hp'], md['gold'], md['exp'])\n",
    "        monsters.append(monster)\n",
    "    gamemap = Gamemap(data[\"width\"], data[\"height\"], monsters)\n",
    "    \n",
    "    hero = RandomHero(\n",
    "        data[\"start_x\"], data[\"start_y\"], \n",
    "        data[\"hero\"][\"base_speed\"], data[\"hero\"][\"base_power\"], data[\"hero\"][\"base_range\"],\n",
    "        data[\"hero\"][\"level_speed_coeff\"], data[\"hero\"][\"level_power_coeff\"], data[\"hero\"][\"level_range_coeff\"], gamemap\n",
    "    )\n",
    "    hero.simulate(data[\"num_turns\"], f\"./op/{filename}\")"
   ]
  },
  {
   "cell_type": "code",
   "execution_count": 127,
   "metadata": {},
   "outputs": [],
   "source": [
    "files = [f for f in os.listdir(\"./ip\")]"
   ]
  },
  {
   "cell_type": "code",
   "execution_count": 128,
   "metadata": {},
   "outputs": [
    {
     "name": "stderr",
     "output_type": "stream",
     "text": [
      "  0%|          | 0/25 [00:00<?, ?it/s]"
     ]
    },
    {
     "name": "stderr",
     "output_type": "stream",
     "text": [
      "100%|██████████| 25/25 [00:52<00:00,  2.08s/it]\n"
     ]
    }
   ],
   "source": [
    "for f in tqdm(files) :\n",
    "    processFile(f)"
   ]
  },
  {
   "cell_type": "code",
   "execution_count": null,
   "metadata": {},
   "outputs": [],
   "source": []
  }
 ],
 "metadata": {
  "kernelspec": {
   "display_name": "vision",
   "language": "python",
   "name": "python3"
  },
  "language_info": {
   "codemirror_mode": {
    "name": "ipython",
    "version": 3
   },
   "file_extension": ".py",
   "mimetype": "text/x-python",
   "name": "python",
   "nbconvert_exporter": "python",
   "pygments_lexer": "ipython3",
   "version": "3.11.3"
  }
 },
 "nbformat": 4,
 "nbformat_minor": 2
}
